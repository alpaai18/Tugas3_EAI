{
 "cells": [
  {
   "cell_type": "code",
   "execution_count": 189,
   "metadata": {},
   "outputs": [],
   "source": [
    "import graphene\n",
    "import json"
   ]
  },
  {
   "cell_type": "code",
   "execution_count": 190,
   "metadata": {},
   "outputs": [],
   "source": [
    "# Bikin Class 1\n",
    "# Kasus Jabatan dan Karyawan\n",
    "\n",
    "class Jabatan(graphene.ObjectType):\n",
    "    id = graphene.ID()\n",
    "    posisi = graphene.String()\n",
    "    # karyawan = graphene.Karyawan()\n",
    "\n",
    "class Query(graphene.ObjectType):\n",
    "    '''\n",
    "    \n",
    "    untuk nama variabel yang menampung library graphene,\n",
    "    harus satu kata tidak bisa lebih, jika tidak maka output\n",
    "    akan None\n",
    "\n",
    "    '''\n",
    "    \n",
    "    jabatan = graphene.Field(Jabatan) # ini itu untuk ambil data satuan\n",
    "    banyak = graphene.List(Jabatan) # Nah yang ini kalau mau ambil banyak data sekaligus\n",
    "\n",
    "    # Bikin resolver untuk mendapatkan data dari class Jabatan\n",
    "\n",
    "    ''' \n",
    "\n",
    "    \"info\" ini lebih ke arah parameter untuk dokumentasi atau metadata.\n",
    "    misal print(info.field_name) maka akan mengeluarkan output jabatan\n",
    "\n",
    "\n",
    "    '''\n",
    "    \n",
    "    def resolve_jabatan(self):\n",
    "        return Jabatan(id=\"1\", posisi=\"Manager\")\n",
    "    \n",
    "    def resolve_banyak(self):\n",
    "\n",
    "        # return berbentuk list karena ingin menampung banyak data\n",
    "        return [\n",
    "            Jabatan(id=\"1\", posisi=\"Manager\"),\n",
    "            Jabatan(id=\"2\", posisi=\"Kepala Divisi\"),\n",
    "            Jabatan(id=\"3\", posisi=\"Staff\")\n",
    "        ]\n",
    "\n",
    "\n",
    "schema = graphene.Schema(query=Query)"
   ]
  },
  {
   "cell_type": "code",
   "execution_count": 191,
   "metadata": {},
   "outputs": [
    {
     "name": "stdout",
     "output_type": "stream",
     "text": [
      "{'jabatan': None}\n"
     ]
    }
   ],
   "source": [
    "var1 = ''' \n",
    "{\n",
    "    jabatan {\n",
    "        posisi\n",
    "    }\n",
    "}\n",
    "'''\n",
    "\n",
    "getData = schema.execute(var1)\n",
    "\n",
    "print(getData.data)"
   ]
  },
  {
   "cell_type": "code",
   "execution_count": 192,
   "metadata": {},
   "outputs": [
    {
     "name": "stdout",
     "output_type": "stream",
     "text": [
      "{'banyak': None}\n"
     ]
    }
   ],
   "source": [
    "var1 = ''' \n",
    "{\n",
    "    banyak {\n",
    "        id\n",
    "        posisi\n",
    "    }\n",
    "}\n",
    "'''\n",
    "\n",
    "getData = schema.execute(var1)\n",
    "\n",
    "print(getData.data)\n"
   ]
  },
  {
   "cell_type": "markdown",
   "metadata": {},
   "source": [
    "#### NOTE : Kan kalau seperti ini itu kurang sesuai dengan realita irl. Maka dari itu akan dilakukan menggunakan data dummy berbentuk list yang berisi id dan posisi"
   ]
  },
  {
   "cell_type": "markdown",
   "metadata": {},
   "source": [
    "# Update Data"
   ]
  },
  {
   "cell_type": "code",
   "execution_count": 193,
   "metadata": {},
   "outputs": [],
   "source": [
    "data = [\n",
    "    {\"id\" : \"1\", \"posisi\" : \"Manager\"},\n",
    "    {\"id\" : \"2\", \"posisi\" : \"Kepala Divisi\"},\n",
    "    {\"id\" : \"3\", \"posisi\" : \"Staff\"},\n",
    "]"
   ]
  },
  {
   "cell_type": "code",
   "execution_count": 194,
   "metadata": {},
   "outputs": [],
   "source": [
    "# Bikin Class 1\n",
    "# Kasus Jabatan dan Karyawan\n",
    "\n",
    "class Jabatan(graphene.ObjectType):\n",
    "    id = graphene.ID()\n",
    "    posisi = graphene.String()\n",
    "    # karyawan = graphene.Karyawan()\n",
    "\n",
    "class Query(graphene.ObjectType):\n",
    "    '''\n",
    "    \n",
    "    untuk nama variabel yang menampung library graphene,\n",
    "    harus satu kata tidak bisa lebih, jika tidak maka output\n",
    "    akan None\n",
    "\n",
    "    '''\n",
    "    \n",
    "    jabatan = graphene.Field(Jabatan) # ini itu untuk ambil data satuan\n",
    "    banyak = graphene.List(Jabatan) # Nah yang ini kalau mau ambil banyak data sekaligus\n",
    "\n",
    "    # Bikin resolver untuk mendapatkan data dari class Jabatan\n",
    "\n",
    "    ''' \n",
    "\n",
    "    \"info\" ini lebih ke arah parameter untuk dokumentasi atau metadata.\n",
    "    misal print(info.field_name) maka akan mengeluarkan output jabatan\n",
    "\n",
    "    lalu untuk id = data[1][\"id\"], posisi = data[1][\"posisi\"] itu konsepnya sama waktu di Consume API\n",
    "    \n",
    "    jadi nanti bakal akses\n",
    "        {\"id\" : \"2\", \"posisi\" : \"Kepala Divisi\"},\n",
    "\n",
    "    '''\n",
    "    \n",
    "    def resolve_jabatan(self, info):\n",
    "        return Jabatan(id=data[1][\"id\"], posisi=data[1][\"posisi\"])\n",
    "    \n",
    "    '''\n",
    "    \n",
    "    Bagian untuk akses banyak data itu menggunakan konsep list comprehensive\n",
    "    jadi penjelasannya kita melakukan perulangan di dalam list dan hasilnya akan\n",
    "    disimpan di variabel list yang baru\n",
    "    \n",
    "    '''\n",
    "    \n",
    "    def resolve_banyak(self, info):\n",
    "\n",
    "        # return berbentuk list karena ingin menampung banyak data\n",
    "        return [Jabatan(id=i['id'], posisi=i['posisi']) for i in data]\n",
    "\n",
    "\n",
    "schema = graphene.Schema(query=Query)\n"
   ]
  },
  {
   "cell_type": "code",
   "execution_count": 195,
   "metadata": {},
   "outputs": [
    {
     "name": "stdout",
     "output_type": "stream",
     "text": [
      "{'jabatan': {'posisi': 'Kepala Divisi'}}\n"
     ]
    }
   ],
   "source": [
    "var1 = ''' \n",
    "{\n",
    "    jabatan {\n",
    "        posisi\n",
    "    }\n",
    "}\n",
    "'''\n",
    "\n",
    "getData = schema.execute(var1)\n",
    "\n",
    "print(getData.data)"
   ]
  },
  {
   "cell_type": "code",
   "execution_count": 196,
   "metadata": {},
   "outputs": [
    {
     "name": "stdout",
     "output_type": "stream",
     "text": [
      "{'banyak': [{'id': '1', 'posisi': 'Manager'}, {'id': '2', 'posisi': 'Kepala Divisi'}, {'id': '3', 'posisi': 'Staff'}]}\n"
     ]
    }
   ],
   "source": [
    "var1 = ''' \n",
    "{\n",
    "    banyak {\n",
    "        id\n",
    "        posisi\n",
    "    }\n",
    "}\n",
    "'''\n",
    "\n",
    "getData = schema.execute(var1)\n",
    "\n",
    "print(getData.data)"
   ]
  },
  {
   "cell_type": "markdown",
   "metadata": {},
   "source": [
    "# Pengunaan Arguments"
   ]
  },
  {
   "cell_type": "code",
   "execution_count": 197,
   "metadata": {},
   "outputs": [],
   "source": [
    "# Bikin Class 1\n",
    "# Kasus Jabatan dan Karyawan\n",
    "\n",
    "class Jabatan(graphene.ObjectType):\n",
    "    id = graphene.ID()\n",
    "    posisi = graphene.String()\n",
    "    # karyawan = graphene.Karyawan()\n",
    "\n",
    "class Query(graphene.ObjectType):\n",
    "    '''\n",
    "    \n",
    "    untuk nama variabel yang menampung library graphene,\n",
    "    harus satu kata tidak bisa lebih, jika tidak maka output\n",
    "    akan None\n",
    "\n",
    "    '''\n",
    "    \n",
    "    jabatan = graphene.Field(Jabatan) # ini itu untuk ambil data satuan\n",
    "    banyak = graphene.List(Jabatan) # Nah yang ini kalau mau ambil banyak data sekaligus\n",
    "\n",
    "    '''\n",
    "    \n",
    "    Pada GraphQL jika kita membuat field dengan variabel yang dipisahkan oleh underscore\n",
    "    maka di graphene Underscore nya akan berubah menjadi uppercase\n",
    "\n",
    "    contoh : contoh_satu, maka saat pemanggilan query nya jadi contohSatu\n",
    "    \n",
    "    '''\n",
    "\n",
    "    jabatanID = graphene.Field(Jabatan, id=graphene.ID()) # Ini untuk memanggil data Jabatan berdasarkan ID\n",
    "    jabatanPosisi = graphene.Field(Jabatan, posisi=graphene.String()) # Ini untuk memanggil data Jabatan berdasarkan kolom Posisi\n",
    "\n",
    "    # Bikin resolver untuk mendapatkan data dari class Jabatan\n",
    "\n",
    "    ''' \n",
    "\n",
    "    \"info\" ini lebih ke arah parameter untuk dokumentasi atau metadata.\n",
    "    misal print(info.field_name) maka akan mengeluarkan output jabatan\n",
    "\n",
    "    lalu untuk id = data[1][\"id\"], posisi = data[1][\"posisi\"] itu konsepnya sama waktu di Consume API\n",
    "    \n",
    "    jadi nanti bakal akses\n",
    "        {\"id\" : \"2\", \"posisi\" : \"Kepala Divisi\"},\n",
    "\n",
    "    '''\n",
    "    \n",
    "    def resolve_jabatan(self, info):\n",
    "        return Jabatan(id=data[1][\"id\"], posisi=data[1][\"posisi\"])\n",
    "    \n",
    "    '''\n",
    "    \n",
    "    Bagian untuk akses banyak data itu menggunakan konsep list comprehensive\n",
    "    jadi penjelasannya kita melakukan perulangan di dalam list dan hasilnya akan\n",
    "    disimpan di variabel list yang baru\n",
    "    \n",
    "    '''\n",
    "    \n",
    "    def resolve_banyak(self, info):\n",
    "\n",
    "        # return berbentuk list karena ingin menampung banyak data\n",
    "        return [Jabatan(id=i['id'], posisi=i['posisi']) for i in data]\n",
    "    \n",
    "    '''\n",
    "    \n",
    "    Nah ini tuh makai konsep perulangan yang mengecek apakah id di parameter\n",
    "    ada datanya di id data pada tabel asli? kalau ada ya mau di return sesuai id\n",
    "    di parameter\n",
    "    \n",
    "    '''\n",
    "    \n",
    "    def resolve_jabatanID(self, info, id):\n",
    "        for i in data:\n",
    "            if id == i[\"id\"]:\n",
    "                return Jabatan(id=i['id'], posisi=i['posisi'])\n",
    "        return None\n",
    "    \n",
    "    def resolve_jabatanPosisi(self, info, posisi):\n",
    "        for i in data:\n",
    "            if posisi == i[\"posisi\"]:\n",
    "                return Jabatan(id=i['id'], posisi=i['posisi'])\n",
    "        return None\n",
    "\n",
    "schema = graphene.Schema(query=Query)"
   ]
  },
  {
   "cell_type": "code",
   "execution_count": 198,
   "metadata": {},
   "outputs": [
    {
     "name": "stdout",
     "output_type": "stream",
     "text": [
      "{'jabatanPosisi': {'id': '1', 'posisi': 'Manager'}}\n"
     ]
    }
   ],
   "source": [
    "var1 = ''' \n",
    "{\n",
    "    jabatanPosisi(posisi: \"Manager\"){\n",
    "        id\n",
    "        posisi\n",
    "    }\n",
    "}\n",
    "'''\n",
    "\n",
    "getData = schema.execute(var1)\n",
    "\n",
    "print(getData.data)"
   ]
  },
  {
   "cell_type": "markdown",
   "metadata": {},
   "source": [
    "##### Kita bikin versi JSON nya"
   ]
  },
  {
   "cell_type": "code",
   "execution_count": 199,
   "metadata": {},
   "outputs": [
    {
     "name": "stdout",
     "output_type": "stream",
     "text": [
      "{\n",
      "  \"jabatanPosisi\": {\n",
      "    \"id\": \"1\",\n",
      "    \"posisi\": \"Manager\"\n",
      "  }\n",
      "}\n"
     ]
    }
   ],
   "source": [
    "import json\n",
    "\n",
    "versiJSON = json.dumps(getData.data, indent=2)\n",
    "print(versiJSON)"
   ]
  }
 ],
 "metadata": {
  "kernelspec": {
   "display_name": "latihangraphql",
   "language": "python",
   "name": "python3"
  },
  "language_info": {
   "codemirror_mode": {
    "name": "ipython",
    "version": 3
   },
   "file_extension": ".py",
   "mimetype": "text/x-python",
   "name": "python",
   "nbconvert_exporter": "python",
   "pygments_lexer": "ipython3",
   "version": "3.10.7"
  }
 },
 "nbformat": 4,
 "nbformat_minor": 2
}
